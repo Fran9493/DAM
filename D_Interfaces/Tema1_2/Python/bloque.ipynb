{
 "cells": [
  {
   "cell_type": "code",
   "execution_count": 6,
   "metadata": {},
   "outputs": [
    {
     "data": {
      "text/plain": [
       "int"
      ]
     },
     "execution_count": 6,
     "metadata": {},
     "output_type": "execute_result"
    }
   ],
   "source": [
    "n = 23\n",
    "saludo = 'Hola! Qué tal?'\n",
    "type(n)\n"
   ]
  },
  {
   "cell_type": "code",
   "execution_count": 9,
   "metadata": {},
   "outputs": [
    {
     "name": "stdout",
     "output_type": "stream",
     "text": [
      "30.25\n"
     ]
    }
   ],
   "source": [
    "import constantes\n",
    "precio = 25\n",
    "precio_final = precio + (precio * constantes.IVA)\n",
    "print(precio_final)"
   ]
  },
  {
   "cell_type": "code",
   "execution_count": 10,
   "metadata": {},
   "outputs": [
    {
     "data": {
      "text/plain": [
       "str"
      ]
     },
     "execution_count": 10,
     "metadata": {},
     "output_type": "execute_result"
    }
   ],
   "source": [
    "\n",
    "type(saludo)"
   ]
  },
  {
   "cell_type": "code",
   "execution_count": 15,
   "metadata": {},
   "outputs": [
    {
     "name": "stdout",
     "output_type": "stream",
     "text": [
      "Esto es un mensaje de prueba para el curso de PythonEsto es un mensaje de prueba para el curso de PythonEsto es un mensaje de prueba para el curso de Python\n"
     ]
    },
    {
     "data": {
      "text/plain": [
       "52"
      ]
     },
     "execution_count": 15,
     "metadata": {},
     "output_type": "execute_result"
    }
   ],
   "source": [
    "mensaje = \"Esto es un mensaje de prueba para el curso de Python\"\n",
    "mensaje[1]\n",
    "mensaje[:20]\n",
    "\n",
    "print(mensaje * 3)\n",
    "len(mensaje)"
   ]
  },
  {
   "cell_type": "code",
   "execution_count": 19,
   "metadata": {},
   "outputs": [
    {
     "name": "stdout",
     "output_type": "stream",
     "text": [
      "{'clave2': 'Segundo valor', 'claveNueva': 'nueva clave'}\n"
     ]
    },
    {
     "data": {
      "text/plain": [
       "['clave2', 'claveNueva']"
      ]
     },
     "execution_count": 19,
     "metadata": {},
     "output_type": "execute_result"
    }
   ],
   "source": [
    "diccionario = {\n",
    "    'clave1': 'Mi primer valor',\n",
    "    'clave2': 'Segundo valor'\n",
    "}\n",
    "\n",
    "diccionario['clave1']\n",
    "\n",
    "diccionario['claveNueva'] = 'nueva clave'\n",
    "\n",
    "del diccionario['clave1']\n",
    "\n",
    "print(diccionario)\n",
    "\n",
    "list(diccionario)"
   ]
  },
  {
   "cell_type": "code",
   "execution_count": 4,
   "metadata": {},
   "outputs": [
    {
     "name": "stdout",
     "output_type": "stream",
     "text": [
      "Escribe un número del 1 al 10\n",
      "Soy menor o igual que 5\n"
     ]
    }
   ],
   "source": [
    "print(\"Escribe un número del 1 al 10\")\n",
    "\n",
    "number = int(input())\n",
    "if(number > 5):\n",
    "    print(\"¡Soy mayor que 5!\")\n",
    "elif(number == 5):\n",
    "    print(\"Soy el número 5\")\n",
    "else:\n",
    "    print(\"Soy menor o igual que 5\")"
   ]
  },
  {
   "cell_type": "code",
   "execution_count": 5,
   "metadata": {},
   "outputs": [
    {
     "name": "stdout",
     "output_type": "stream",
     "text": [
      "4\n",
      "3\n",
      "2\n",
      "1\n",
      "0\n",
      "Ya he acabado\n"
     ]
    }
   ],
   "source": [
    "numero = 5\n",
    "fin = 0\n",
    "\n",
    "while(numero > fin):\n",
    "    numero -= 1\n",
    "    print(numero)\n",
    "else:\n",
    "    print(\"Ya he acabado\")"
   ]
  },
  {
   "cell_type": "code",
   "execution_count": 12,
   "metadata": {},
   "outputs": [
    {
     "name": "stdout",
     "output_type": "stream",
     "text": [
      "texto\n",
      "5\n",
      "(23, 56)\n"
     ]
    }
   ],
   "source": [
    "lista = ['texto', 5, (23,56)]\n",
    "\n",
    "for elemento in lista:\n",
    "    print(elemento)"
   ]
  },
  {
   "cell_type": "code",
   "execution_count": 7,
   "metadata": {},
   "outputs": [
    {
     "name": "stdout",
     "output_type": "stream",
     "text": [
      "H\n",
      "l\n",
      " \n",
      "u\n",
      "d\n"
     ]
    }
   ],
   "source": [
    "cadena = 'Hola mundo'\n",
    "\n",
    "for i in range(0, len(cadena), 2):\n",
    "    print(cadena[i])"
   ]
  },
  {
   "cell_type": "code",
   "execution_count": 13,
   "metadata": {},
   "outputs": [
    {
     "data": {
      "text/plain": [
       "10.0"
      ]
     },
     "execution_count": 13,
     "metadata": {},
     "output_type": "execute_result"
    }
   ],
   "source": [
    "def area_triangulo(base=10, altura=10):\n",
    "    area = (base * altura) / 2\n",
    "    return area\n",
    "\n",
    "area_triangulo(2)"
   ]
  },
  {
   "cell_type": "code",
   "execution_count": 15,
   "metadata": {},
   "outputs": [
    {
     "name": "stdout",
     "output_type": "stream",
     "text": [
      "arg1 => Hola\n",
      "arg2 => [2, 3, 4]\n",
      "arg3 => 876.98\n",
      "Help on function imprime_valores in module __main__:\n",
      "\n",
      "imprime_valores(**args)\n",
      "    Funcion que imprime valores pasados por parámetro\n",
      "\n"
     ]
    }
   ],
   "source": [
    "def imprime_valores(**args):\n",
    "    \"\"\"\n",
    "    Funcion que imprime valores pasados por parámetro\n",
    "    \"\"\"\n",
    "    for argumento in args:\n",
    "        print(argumento, '=>', args[argumento])\n",
    "imprime_valores(arg1 = 'Hola', arg2 = [2,3,4], arg3 = 876.98)\n",
    "\n",
    "help(imprime_valores)"
   ]
  },
  {
   "cell_type": "code",
   "execution_count": 16,
   "metadata": {},
   "outputs": [
    {
     "data": {
      "text/plain": [
       "31.41592653589793"
      ]
     },
     "execution_count": 16,
     "metadata": {},
     "output_type": "execute_result"
    }
   ],
   "source": [
    "import circunferencia as c\n",
    "\n",
    "c.perimetro(5)"
   ]
  },
  {
   "cell_type": "code",
   "execution_count": 22,
   "metadata": {},
   "outputs": [],
   "source": [
    "class Libro:\n",
    "    def __init__(self, titulo, autor, isbn, editorial, paginas, edicion):\n",
    "        self.titulo = titulo\n",
    "        self.autor = autor\n",
    "        self.isbn = isbn\n",
    "        self.editorial = editorial\n",
    "        self.paginas = paginas\n",
    "        self.edicion = edicion\n",
    "        \n",
    "    def imprime(self):\n",
    "        print(self.titulo + \", \" + self.autor + \", \" + self.isbn + \", \" + self. editorial + \", \"+ self.paginas + \", \" + self.edicion)"
   ]
  },
  {
   "cell_type": "code",
   "execution_count": 27,
   "metadata": {},
   "outputs": [
    {
     "name": "stdout",
     "output_type": "stream",
     "text": [
      "DI, Antonio, 948473, Santillana, 659, 4\n",
      "Bien creado\n",
      "Terminado bloque try-except\n",
      "Sigo ejecutando\n"
     ]
    }
   ],
   "source": [
    "\n",
    "\n",
    "try:\n",
    "    miLibro = Libro('DI', 'Antonio', '948473', 'Santillana', '659', '4')\n",
    "    miLibro.imprime()    \n",
    "except:\n",
    "    print(\"Error\")\n",
    "else:\n",
    "    print(\"Bien creado\")\n",
    "finally:\n",
    "    print(\"Terminado bloque try-except\")\n",
    "\n",
    "print(\"Sigo ejecutando\")"
   ]
  },
  {
   "cell_type": "code",
   "execution_count": 44,
   "metadata": {},
   "outputs": [
    {
     "name": "stdout",
     "output_type": "stream",
     "text": [
      "Nombre2: __main__\n"
     ]
    }
   ],
   "source": [
    "import prueba\n",
    "\n",
    "print(\"Nombre2: {}\" .format(__name__))\n",
    "\n"
   ]
  },
  {
   "cell_type": "code",
   "execution_count": 45,
   "metadata": {},
   "outputs": [
    {
     "name": "stdout",
     "output_type": "stream",
     "text": [
      "Nombre: __main__\n",
      "File one executed when ran directly\n"
     ]
    }
   ],
   "source": [
    "import circunferencia\n",
    "\n",
    "print(\"Nombre: {}\" .format(__name__))\n",
    "\n",
    "if __name__ == \"__main__\":\n",
    "    print(\"File one executed when ran directly\")\n",
    "else:\n",
    "    print(\"File one executed when imported\")"
   ]
  }
 ],
 "metadata": {
  "kernelspec": {
   "display_name": "Python 3",
   "language": "python",
   "name": "python3"
  },
  "language_info": {
   "codemirror_mode": {
    "name": "ipython",
    "version": 3
   },
   "file_extension": ".py",
   "mimetype": "text/x-python",
   "name": "python",
   "nbconvert_exporter": "python",
   "pygments_lexer": "ipython3",
   "version": "3.11.5"
  }
 },
 "nbformat": 4,
 "nbformat_minor": 2
}

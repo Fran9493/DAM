{
 "cells": [
  {
   "cell_type": "markdown",
   "metadata": {},
   "source": [
    "## Ejercicio 1 \n",
    "\n",
    "Escribir un programa que guarde en un diccionario los precios de las frutas de la tabla, pregunte al usuario por una fruta, un número de kilos y muestre por pantalla el precio de ese número de kilos de fruta. Si la fruta no está en el diccionario debe mostrar un mensaje informando de ello.\n",
    "\n",
    "| Fruta | Precio|\n",
    "|:-|:-:|\n",
    "|Plátano | 1.35 |\n",
    "|Manzana | 0.80|\n",
    "|Pera| 0.85|\n",
    "|Naranja | 0.70|"
   ]
  },
  {
   "cell_type": "code",
   "execution_count": 12,
   "metadata": {},
   "outputs": [
    {
     "name": "stdout",
     "output_type": "stream",
     "text": [
      "Indica qué producto necesitas\n",
      "¿Cuántos kilos?\n",
      "El precio total es: 1.6€\n"
     ]
    }
   ],
   "source": [
    "diccionario = {\n",
    "    'platano' : 1.35,\n",
    "    'manzana' : 0.80,\n",
    "    'pera' : 0.85,\n",
    "    'naranja' : 0.70    \n",
    "}\n",
    "\n",
    "def calculaPrecio(producto, peso):\n",
    "    precio = 0\n",
    "        \n",
    "    if(producto == 'platano'):\n",
    "        precio = diccionario['platano'] * peso\n",
    "    elif(producto == 'manzana'):\n",
    "        precio = diccionario['manzana'] * peso\n",
    "    elif(producto == 'pera'):\n",
    "        precio = diccionario['pera'] * peso\n",
    "    elif(producto == 'naranja'):\n",
    "        precio = diccionario['naranja'] * peso   \n",
    "    \n",
    "    return precio\n",
    "\n",
    "print(\"Indica qué producto necesitas\")\n",
    "producto = input()\n",
    "   \n",
    "if(producto not in diccionario):\n",
    "    print(\"El producto no está en el diccionario\")\n",
    "else:   \n",
    "    print(\"¿Cuántos kilos?\")\n",
    "    peso = int(input())\n",
    "\n",
    "    precioTotal = calculaPrecio(producto, peso)\n",
    "    print(\"El precio total es: \" + str(precioTotal) + \"€\")"
   ]
  },
  {
   "cell_type": "markdown",
   "metadata": {},
   "source": [
    "## Ejercicio 2\n",
    "\n",
    "Escribir un programa que almacene las asignaturas de un curso (por ejemplo Matemáticas, Física, Química, Historia y Lengua) en una lista, pregunte al usuario la nota que ha sacado en cada asignatura y elimine de la lista las asignaturas aprobadas. Al final el programa debe mostrar por pantalla las asignaturas que el usuario tiene que repetir."
   ]
  },
  {
   "cell_type": "code",
   "execution_count": 18,
   "metadata": {},
   "outputs": [
    {
     "name": "stdout",
     "output_type": "stream",
     "text": [
      "Introduce la nota de matematicas\n",
      "Introduce la nota de fisica\n",
      "Introduce la nota de quimica\n",
      "Introduce la nota de historia\n",
      "Introduce la nota de lengua\n",
      "{'matematicas': 3.0, 'fisica': 4.0, 'quimica': 3.0, 'historia': 5.0, 'lengua': 5.0}\n",
      "Tienes que repetir:\n",
      "['matematicas', 'fisica', 'quimica']\n"
     ]
    }
   ],
   "source": [
    "asignaturas = ['matematicas', 'fisica', 'quimica', 'historia', 'lengua']\n",
    "notas = {}\n",
    "repetir = []\n",
    "\n",
    "for asignatura in asignaturas:\n",
    "    \n",
    "    print(\"Introduce la nota de \" + asignatura)\n",
    "    nota = float(input())\n",
    "    notas[asignatura] = nota\n",
    "\n",
    "for asignatura, nota in notas.items():\n",
    "\n",
    "    if(nota >= 5):\n",
    "        asignaturas.remove(asignatura)\n",
    "    else:\n",
    "        repetir.append(asignatura)\n",
    "\n",
    "print(\"Tienes que repetir:\")\n",
    "print(repetir)\n"
   ]
  },
  {
   "cell_type": "markdown",
   "metadata": {},
   "source": [
    "## Ejercicio 3\n",
    "\n",
    "\n",
    "Escribir un programa que pida al usuario un número entero y muestre por pantalla un triángulo rectángulo como el de más abajo, de altura el número introducido.\n",
    "\n",
    "```\n",
    "*\n",
    "**\n",
    "***\n",
    "****\n",
    "*****\n",
    "```"
   ]
  },
  {
   "cell_type": "code",
   "execution_count": 21,
   "metadata": {},
   "outputs": [
    {
     "name": "stdout",
     "output_type": "stream",
     "text": [
      "Introduce un número entero\n",
      "*\n",
      "**\n",
      "***\n",
      "****\n",
      "*****\n",
      "******\n",
      "*******\n",
      "********\n"
     ]
    }
   ],
   "source": [
    "print(\"Introduce un número entero\")\n",
    "numero = int(input())\n",
    "\n",
    "for i in range(1, numero + 1):\n",
    "    print('*' * i)\n",
    "\n"
   ]
  },
  {
   "cell_type": "markdown",
   "metadata": {},
   "source": [
    "## Ejercicio 4\n",
    "\n",
    "\n",
    "La pizzería Bella Napoli ofrece pizzas vegetarianas y no vegetarianas a sus clientes.\n",
    "Los ingredientes para cada tipo de pizza aparecen a continuación.\n",
    "\n",
    "- Ingredientes vegetarianos: Pimiento y tofu.\n",
    "- Ingredientes no vegetarianos: Peperoni, Jamón y Salmón.\n",
    "\n",
    "Escribir un programa que pregunte al usuario si quiere una pizza vegetariana o no, y en función de su respuesta le muestre un menú con los ingredientes disponibles para que elija.\n",
    "Solo se puede eligir un ingrediente además de la mozzarella y el tomate que están en todas la pizzas.\n",
    "Al final se debe mostrar por pantalla si la pizza elegida es vegetariana o no y todos los ingredientes que lleva.\n"
   ]
  },
  {
   "cell_type": "code",
   "execution_count": 9,
   "metadata": {},
   "outputs": [
    {
     "name": "stdout",
     "output_type": "stream",
     "text": [
      "Además de mozzarella y tomate, a la pizza no vegetariana se le puede añadir un ingrediente más de los siguientes: ['peperoni', 'jamon', 'salmon']\n",
      "Usted ha elegido una pizza no vegetariana, y sus ingredientes son: mozzarella, tomate y jamon\n"
     ]
    }
   ],
   "source": [
    "vegetariana = ['pimiento', 'tofu']\n",
    "noVegetariana = ['peperoni', 'jamon', 'salmon']\n",
    "\n",
    "tipoPizza = (input(\"¿Qué desea, pizza vegetariana o no vegetariana?\"))\n",
    "\n",
    "if(tipoPizza == 'vegetariana'):\n",
    "        \n",
    "    print(\"Además de mozzarella y tomate, a la pizza vegetariana se le puede añadir un ingrediente más de los siguientes: \" + str(vegetariana))\n",
    "\n",
    "elif(tipoPizza == 'no vegetariana'):\n",
    "\n",
    "    print(\"Además de mozzarella y tomate, a la pizza no vegetariana se le puede añadir un ingrediente más de los siguientes: \" + str(noVegetariana))\n",
    "\n",
    "else:\n",
    "\n",
    "    print(\"Sólo se puede elegir entre vegetariana o no vegetariana\")\n",
    "    \n",
    "ingredienteExtra = (input(\"Elige el ingrediente extra\"))\n",
    "\n",
    "\n",
    "\n",
    "print(\"Usted ha elegido una pizza \" + str(tipoPizza) + \", y sus ingredientes son: mozzarella, tomate y \" + str(ingredienteExtra))"
   ]
  },
  {
   "cell_type": "markdown",
   "metadata": {},
   "source": [
    "## Ejercicio 5\n",
    "\n",
    "Escribir un programa que almacene las matrices\n",
    "\n",
    "$$\n",
    "A = \\left(\n",
    "  \\begin{array}{rrr}\n",
    "  1 & 2 & 3\\\\\n",
    "  4 & 5 & 6\n",
    "  \\end{array}\n",
    "  \\right)\n",
    "  \\quad  y\n",
    "  \\quad\n",
    "  B = \\left(\n",
    "  \\begin{array}{rr}\n",
    "  -1 & 0\\\\\n",
    "  0 & 1\\\\\n",
    "  1 & 1\n",
    "  \\end{array}\n",
    "  \\right)\n",
    "$$\n",
    "\n",
    "en una tupla y muestre por pantalla su producto.  \n",
    "Nota: Para representar matrices mediante tuplas usar tuplas anidadas, representando cada vector fila en una tupla."
   ]
  },
  {
   "cell_type": "code",
   "execution_count": 13,
   "metadata": {},
   "outputs": [
    {
     "name": "stdout",
     "output_type": "stream",
     "text": [
      "Resultado\n",
      "(2, 5)\n",
      "(2, 11)\n"
     ]
    }
   ],
   "source": [
    "matrizA = ((1, 2, 3), (4, 5, 6))\n",
    "matrizB = ((-1, 0), (0, 1), (1, 1))\n",
    "\n",
    "filasA = len(matrizA)\n",
    "columnasA = len(matrizA[0])\n",
    "filasB = len(matrizB)\n",
    "columnasB = len(matrizB[0])\n",
    "\n",
    "if (columnasA != filasB):\n",
    "\n",
    "    print(\"Las dimensiones de columnas de la primera matriz y filas de la segunda, deben de ser las mismas\")\n",
    "\n",
    "else:\n",
    "\n",
    "    resultado = []\n",
    "\n",
    "    for i in range(filasA):\n",
    "\n",
    "        fila = []\n",
    "\n",
    "        for j in range(columnasB):\n",
    "\n",
    "            total = 0\n",
    "\n",
    "            for k in range(filasB):\n",
    "\n",
    "                total += matrizA[i][k] * matrizB[k][j]\n",
    "            \n",
    "            fila.append(total)\n",
    "        resultado.append(tuple(fila))\n",
    "    \n",
    "    print(\"Resultado\")\n",
    "\n",
    "    for fila in resultado:\n",
    "\n",
    "        print(fila)\n"
   ]
  }
 ],
 "metadata": {
  "kernelspec": {
   "display_name": "Python 3",
   "language": "python",
   "name": "python3"
  },
  "language_info": {
   "codemirror_mode": {
    "name": "ipython",
    "version": 3
   },
   "file_extension": ".py",
   "mimetype": "text/x-python",
   "name": "python",
   "nbconvert_exporter": "python",
   "pygments_lexer": "ipython3",
   "version": "3.11.5"
  }
 },
 "nbformat": 4,
 "nbformat_minor": 2
}
